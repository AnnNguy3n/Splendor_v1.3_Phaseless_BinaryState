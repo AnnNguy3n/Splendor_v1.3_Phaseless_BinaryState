{
 "cells": [
  {
   "cell_type": "code",
   "execution_count": 1,
   "metadata": {},
   "outputs": [],
   "source": [
    "from env import *\n",
    "\n",
    "@njit\n",
    "def botAnn(state, tempFile, perFile):\n",
    "    validActions = getValidActions(state)\n",
    "    if (validActions[5:20]==1).any():\n",
    "        a = np.where(validActions[5:20]==1)[0] + 5\n",
    "        idx = np.random.randint(0, len(a))\n",
    "        return a[idx], tempFile, perFile\n",
    "    \n",
    "    if (validActions[0:5]==1).any():\n",
    "        a = np.where(validActions[0:5]==1)[0]\n",
    "        idx = np.random.randint(0, len(a))\n",
    "        return a[idx], tempFile, perFile\n",
    "    \n",
    "    a = np.where(validActions==1)[0]\n",
    "    idx = np.random.randint(0, len(a))\n",
    "    return a[idx], tempFile, perFile\n",
    "\n",
    "\n",
    "@njit\n",
    "def botAnn1(state, tempFile, perFile):\n",
    "    validActions = getValidActions(state)\n",
    "    if (validActions[5:20]==1).any():\n",
    "        a = np.where(validActions[5:20]==1)[0] + 5\n",
    "        idx = -1\n",
    "        return a[idx], tempFile, perFile\n",
    "    \n",
    "    if (validActions[0:5]==1).any():\n",
    "        a = np.where(validActions[0:5]==1)[0]\n",
    "        idx = np.random.randint(0, len(a))\n",
    "        return a[idx], tempFile, perFile\n",
    "    \n",
    "    a = np.where(validActions==1)[0]\n",
    "    idx = 0\n",
    "    return a[idx], tempFile, perFile"
   ]
  },
  {
   "cell_type": "code",
   "execution_count": 2,
   "metadata": {},
   "outputs": [
    {
     "data": {
      "text/plain": [
       "(array([9741,   91,   82,   86,    0], dtype=int64),\n",
       " ListType[array(float64, 2d, C)]([[[0.]], ...]))"
      ]
     },
     "execution_count": 2,
     "metadata": {},
     "output_type": "execute_result"
    }
   ],
   "source": [
    "perFile = List()\n",
    "perFile.append(np.array([[0.]]))\n",
    "\n",
    "numbaMain(botAnn, numbaRandomBot, numbaRandomBot, numbaRandomBot, 10000, perFile)"
   ]
  },
  {
   "cell_type": "code",
   "execution_count": 3,
   "metadata": {},
   "outputs": [
    {
     "data": {
      "text/plain": [
       "(array([ 125, 9680,  102,   93,    0], dtype=int64),\n",
       " ListType[array(float64, 2d, C)]([[[0.]], ...]))"
      ]
     },
     "execution_count": 3,
     "metadata": {},
     "output_type": "execute_result"
    }
   ],
   "source": [
    "perFile = List()\n",
    "perFile.append(np.array([[0.]]))\n",
    "\n",
    "numbaMain(numbaRandomBot, botAnn1, numbaRandomBot, numbaRandomBot, 10000, perFile)"
   ]
  },
  {
   "cell_type": "code",
   "execution_count": 4,
   "metadata": {},
   "outputs": [
    {
     "data": {
      "text/plain": [
       "(array([4663, 5310,   16,   11,    0], dtype=int64),\n",
       " ListType[array(float64, 2d, C)]([[[0.]], ...]))"
      ]
     },
     "execution_count": 4,
     "metadata": {},
     "output_type": "execute_result"
    }
   ],
   "source": [
    "perFile = List()\n",
    "perFile.append(np.array([[0.]]))\n",
    "\n",
    "numbaMain(botAnn, botAnn1, numbaRandomBot, numbaRandomBot, 10000, perFile)"
   ]
  }
 ],
 "metadata": {
  "kernelspec": {
   "display_name": "Python 3.10.4 64-bit",
   "language": "python",
   "name": "python3"
  },
  "language_info": {
   "codemirror_mode": {
    "name": "ipython",
    "version": 3
   },
   "file_extension": ".py",
   "mimetype": "text/x-python",
   "name": "python",
   "nbconvert_exporter": "python",
   "pygments_lexer": "ipython3",
   "version": "3.10.4"
  },
  "orig_nbformat": 4,
  "vscode": {
   "interpreter": {
    "hash": "3bc1a11519d29b3ed6f08646f3ece60640217e649724c6bcfd38e1173c1a1bce"
   }
  }
 },
 "nbformat": 4,
 "nbformat_minor": 2
}
